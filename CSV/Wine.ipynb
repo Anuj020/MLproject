{
 "cells": [
  {
   "cell_type": "code",
   "execution_count": 1,
   "id": "14c5a5a6",
   "metadata": {},
   "outputs": [],
   "source": [
    "import numpy as np\n",
    "import pandas as pd\n",
    "import matplotlib.pyplot as plt"
   ]
  },
  {
   "cell_type": "code",
   "execution_count": 2,
   "id": "dd796988",
   "metadata": {},
   "outputs": [],
   "source": [
    "url =\"https://raw.githubusercontent.com/Anuj020/CsvFiles/main/winequality-red.csv\"\n",
    "wine = pd.read_csv(url)"
   ]
  },
  {
   "cell_type": "markdown",
   "id": "50e63079",
   "metadata": {},
   "source": [
    "### 1. Take a quick look at the data structure using head, info, and describe."
   ]
  },
  {
   "cell_type": "code",
   "execution_count": 3,
   "id": "4ea97676",
   "metadata": {},
   "outputs": [
    {
     "data": {
      "text/html": [
       "<div>\n",
       "<style scoped>\n",
       "    .dataframe tbody tr th:only-of-type {\n",
       "        vertical-align: middle;\n",
       "    }\n",
       "\n",
       "    .dataframe tbody tr th {\n",
       "        vertical-align: top;\n",
       "    }\n",
       "\n",
       "    .dataframe thead th {\n",
       "        text-align: right;\n",
       "    }\n",
       "</style>\n",
       "<table border=\"1\" class=\"dataframe\">\n",
       "  <thead>\n",
       "    <tr style=\"text-align: right;\">\n",
       "      <th></th>\n",
       "      <th>fixed acidity</th>\n",
       "      <th>volatile acidity</th>\n",
       "      <th>citric acid</th>\n",
       "      <th>residual sugar</th>\n",
       "      <th>chlorides</th>\n",
       "      <th>free sulfur dioxide</th>\n",
       "      <th>total sulfur dioxide</th>\n",
       "      <th>density</th>\n",
       "      <th>pH</th>\n",
       "      <th>sulphates</th>\n",
       "      <th>alcohol</th>\n",
       "      <th>quality</th>\n",
       "    </tr>\n",
       "  </thead>\n",
       "  <tbody>\n",
       "    <tr>\n",
       "      <th>0</th>\n",
       "      <td>7.4</td>\n",
       "      <td>0.70</td>\n",
       "      <td>0.00</td>\n",
       "      <td>1.9</td>\n",
       "      <td>0.076</td>\n",
       "      <td>11.0</td>\n",
       "      <td>34.0</td>\n",
       "      <td>0.9978</td>\n",
       "      <td>3.51</td>\n",
       "      <td>0.56</td>\n",
       "      <td>9.4</td>\n",
       "      <td>5</td>\n",
       "    </tr>\n",
       "    <tr>\n",
       "      <th>1</th>\n",
       "      <td>7.8</td>\n",
       "      <td>0.88</td>\n",
       "      <td>0.00</td>\n",
       "      <td>2.6</td>\n",
       "      <td>0.098</td>\n",
       "      <td>25.0</td>\n",
       "      <td>67.0</td>\n",
       "      <td>0.9968</td>\n",
       "      <td>3.20</td>\n",
       "      <td>0.68</td>\n",
       "      <td>9.8</td>\n",
       "      <td>5</td>\n",
       "    </tr>\n",
       "    <tr>\n",
       "      <th>2</th>\n",
       "      <td>7.8</td>\n",
       "      <td>0.76</td>\n",
       "      <td>0.04</td>\n",
       "      <td>2.3</td>\n",
       "      <td>0.092</td>\n",
       "      <td>15.0</td>\n",
       "      <td>54.0</td>\n",
       "      <td>0.9970</td>\n",
       "      <td>3.26</td>\n",
       "      <td>0.65</td>\n",
       "      <td>9.8</td>\n",
       "      <td>5</td>\n",
       "    </tr>\n",
       "    <tr>\n",
       "      <th>3</th>\n",
       "      <td>11.2</td>\n",
       "      <td>0.28</td>\n",
       "      <td>0.56</td>\n",
       "      <td>1.9</td>\n",
       "      <td>0.075</td>\n",
       "      <td>17.0</td>\n",
       "      <td>60.0</td>\n",
       "      <td>0.9980</td>\n",
       "      <td>3.16</td>\n",
       "      <td>0.58</td>\n",
       "      <td>9.8</td>\n",
       "      <td>6</td>\n",
       "    </tr>\n",
       "    <tr>\n",
       "      <th>4</th>\n",
       "      <td>7.4</td>\n",
       "      <td>0.70</td>\n",
       "      <td>0.00</td>\n",
       "      <td>1.9</td>\n",
       "      <td>0.076</td>\n",
       "      <td>11.0</td>\n",
       "      <td>34.0</td>\n",
       "      <td>0.9978</td>\n",
       "      <td>3.51</td>\n",
       "      <td>0.56</td>\n",
       "      <td>9.4</td>\n",
       "      <td>5</td>\n",
       "    </tr>\n",
       "  </tbody>\n",
       "</table>\n",
       "</div>"
      ],
      "text/plain": [
       "   fixed acidity  volatile acidity  citric acid  residual sugar  chlorides  \\\n",
       "0            7.4              0.70         0.00             1.9      0.076   \n",
       "1            7.8              0.88         0.00             2.6      0.098   \n",
       "2            7.8              0.76         0.04             2.3      0.092   \n",
       "3           11.2              0.28         0.56             1.9      0.075   \n",
       "4            7.4              0.70         0.00             1.9      0.076   \n",
       "\n",
       "   free sulfur dioxide  total sulfur dioxide  density    pH  sulphates  \\\n",
       "0                 11.0                  34.0   0.9978  3.51       0.56   \n",
       "1                 25.0                  67.0   0.9968  3.20       0.68   \n",
       "2                 15.0                  54.0   0.9970  3.26       0.65   \n",
       "3                 17.0                  60.0   0.9980  3.16       0.58   \n",
       "4                 11.0                  34.0   0.9978  3.51       0.56   \n",
       "\n",
       "   alcohol  quality  \n",
       "0      9.4        5  \n",
       "1      9.8        5  \n",
       "2      9.8        5  \n",
       "3      9.8        6  \n",
       "4      9.4        5  "
      ]
     },
     "execution_count": 3,
     "metadata": {},
     "output_type": "execute_result"
    }
   ],
   "source": [
    "wine.head()"
   ]
  },
  {
   "cell_type": "code",
   "execution_count": 4,
   "id": "726c5ad5",
   "metadata": {},
   "outputs": [
    {
     "name": "stdout",
     "output_type": "stream",
     "text": [
      "<class 'pandas.core.frame.DataFrame'>\n",
      "RangeIndex: 1599 entries, 0 to 1598\n",
      "Data columns (total 12 columns):\n",
      " #   Column                Non-Null Count  Dtype  \n",
      "---  ------                --------------  -----  \n",
      " 0   fixed acidity         1599 non-null   float64\n",
      " 1   volatile acidity      1599 non-null   float64\n",
      " 2   citric acid           1599 non-null   float64\n",
      " 3   residual sugar        1599 non-null   float64\n",
      " 4   chlorides             1599 non-null   float64\n",
      " 5   free sulfur dioxide   1599 non-null   float64\n",
      " 6   total sulfur dioxide  1599 non-null   float64\n",
      " 7   density               1599 non-null   float64\n",
      " 8   pH                    1599 non-null   float64\n",
      " 9   sulphates             1599 non-null   float64\n",
      " 10  alcohol               1599 non-null   float64\n",
      " 11  quality               1599 non-null   int64  \n",
      "dtypes: float64(11), int64(1)\n",
      "memory usage: 150.0 KB\n"
     ]
    }
   ],
   "source": [
    "wine.info(5)"
   ]
  },
  {
   "cell_type": "code",
   "execution_count": 5,
   "id": "c054e8a5",
   "metadata": {},
   "outputs": [
    {
     "data": {
      "text/html": [
       "<div>\n",
       "<style scoped>\n",
       "    .dataframe tbody tr th:only-of-type {\n",
       "        vertical-align: middle;\n",
       "    }\n",
       "\n",
       "    .dataframe tbody tr th {\n",
       "        vertical-align: top;\n",
       "    }\n",
       "\n",
       "    .dataframe thead th {\n",
       "        text-align: right;\n",
       "    }\n",
       "</style>\n",
       "<table border=\"1\" class=\"dataframe\">\n",
       "  <thead>\n",
       "    <tr style=\"text-align: right;\">\n",
       "      <th></th>\n",
       "      <th>fixed acidity</th>\n",
       "      <th>volatile acidity</th>\n",
       "      <th>citric acid</th>\n",
       "      <th>residual sugar</th>\n",
       "      <th>chlorides</th>\n",
       "      <th>free sulfur dioxide</th>\n",
       "      <th>total sulfur dioxide</th>\n",
       "      <th>density</th>\n",
       "      <th>pH</th>\n",
       "      <th>sulphates</th>\n",
       "      <th>alcohol</th>\n",
       "      <th>quality</th>\n",
       "    </tr>\n",
       "  </thead>\n",
       "  <tbody>\n",
       "    <tr>\n",
       "      <th>count</th>\n",
       "      <td>1599.000000</td>\n",
       "      <td>1599.000000</td>\n",
       "      <td>1599.000000</td>\n",
       "      <td>1599.000000</td>\n",
       "      <td>1599.000000</td>\n",
       "      <td>1599.000000</td>\n",
       "      <td>1599.000000</td>\n",
       "      <td>1599.000000</td>\n",
       "      <td>1599.000000</td>\n",
       "      <td>1599.000000</td>\n",
       "      <td>1599.000000</td>\n",
       "      <td>1599.000000</td>\n",
       "    </tr>\n",
       "    <tr>\n",
       "      <th>mean</th>\n",
       "      <td>8.319637</td>\n",
       "      <td>0.527821</td>\n",
       "      <td>0.270976</td>\n",
       "      <td>2.538806</td>\n",
       "      <td>0.087467</td>\n",
       "      <td>15.874922</td>\n",
       "      <td>46.467792</td>\n",
       "      <td>0.996747</td>\n",
       "      <td>3.311113</td>\n",
       "      <td>0.658149</td>\n",
       "      <td>10.422983</td>\n",
       "      <td>5.636023</td>\n",
       "    </tr>\n",
       "    <tr>\n",
       "      <th>std</th>\n",
       "      <td>1.741096</td>\n",
       "      <td>0.179060</td>\n",
       "      <td>0.194801</td>\n",
       "      <td>1.409928</td>\n",
       "      <td>0.047065</td>\n",
       "      <td>10.460157</td>\n",
       "      <td>32.895324</td>\n",
       "      <td>0.001887</td>\n",
       "      <td>0.154386</td>\n",
       "      <td>0.169507</td>\n",
       "      <td>1.065668</td>\n",
       "      <td>0.807569</td>\n",
       "    </tr>\n",
       "    <tr>\n",
       "      <th>min</th>\n",
       "      <td>4.600000</td>\n",
       "      <td>0.120000</td>\n",
       "      <td>0.000000</td>\n",
       "      <td>0.900000</td>\n",
       "      <td>0.012000</td>\n",
       "      <td>1.000000</td>\n",
       "      <td>6.000000</td>\n",
       "      <td>0.990070</td>\n",
       "      <td>2.740000</td>\n",
       "      <td>0.330000</td>\n",
       "      <td>8.400000</td>\n",
       "      <td>3.000000</td>\n",
       "    </tr>\n",
       "    <tr>\n",
       "      <th>25%</th>\n",
       "      <td>7.100000</td>\n",
       "      <td>0.390000</td>\n",
       "      <td>0.090000</td>\n",
       "      <td>1.900000</td>\n",
       "      <td>0.070000</td>\n",
       "      <td>7.000000</td>\n",
       "      <td>22.000000</td>\n",
       "      <td>0.995600</td>\n",
       "      <td>3.210000</td>\n",
       "      <td>0.550000</td>\n",
       "      <td>9.500000</td>\n",
       "      <td>5.000000</td>\n",
       "    </tr>\n",
       "    <tr>\n",
       "      <th>50%</th>\n",
       "      <td>7.900000</td>\n",
       "      <td>0.520000</td>\n",
       "      <td>0.260000</td>\n",
       "      <td>2.200000</td>\n",
       "      <td>0.079000</td>\n",
       "      <td>14.000000</td>\n",
       "      <td>38.000000</td>\n",
       "      <td>0.996750</td>\n",
       "      <td>3.310000</td>\n",
       "      <td>0.620000</td>\n",
       "      <td>10.200000</td>\n",
       "      <td>6.000000</td>\n",
       "    </tr>\n",
       "    <tr>\n",
       "      <th>75%</th>\n",
       "      <td>9.200000</td>\n",
       "      <td>0.640000</td>\n",
       "      <td>0.420000</td>\n",
       "      <td>2.600000</td>\n",
       "      <td>0.090000</td>\n",
       "      <td>21.000000</td>\n",
       "      <td>62.000000</td>\n",
       "      <td>0.997835</td>\n",
       "      <td>3.400000</td>\n",
       "      <td>0.730000</td>\n",
       "      <td>11.100000</td>\n",
       "      <td>6.000000</td>\n",
       "    </tr>\n",
       "    <tr>\n",
       "      <th>max</th>\n",
       "      <td>15.900000</td>\n",
       "      <td>1.580000</td>\n",
       "      <td>1.000000</td>\n",
       "      <td>15.500000</td>\n",
       "      <td>0.611000</td>\n",
       "      <td>72.000000</td>\n",
       "      <td>289.000000</td>\n",
       "      <td>1.003690</td>\n",
       "      <td>4.010000</td>\n",
       "      <td>2.000000</td>\n",
       "      <td>14.900000</td>\n",
       "      <td>8.000000</td>\n",
       "    </tr>\n",
       "  </tbody>\n",
       "</table>\n",
       "</div>"
      ],
      "text/plain": [
       "       fixed acidity  volatile acidity  citric acid  residual sugar  \\\n",
       "count    1599.000000       1599.000000  1599.000000     1599.000000   \n",
       "mean        8.319637          0.527821     0.270976        2.538806   \n",
       "std         1.741096          0.179060     0.194801        1.409928   \n",
       "min         4.600000          0.120000     0.000000        0.900000   \n",
       "25%         7.100000          0.390000     0.090000        1.900000   \n",
       "50%         7.900000          0.520000     0.260000        2.200000   \n",
       "75%         9.200000          0.640000     0.420000        2.600000   \n",
       "max        15.900000          1.580000     1.000000       15.500000   \n",
       "\n",
       "         chlorides  free sulfur dioxide  total sulfur dioxide      density  \\\n",
       "count  1599.000000          1599.000000           1599.000000  1599.000000   \n",
       "mean      0.087467            15.874922             46.467792     0.996747   \n",
       "std       0.047065            10.460157             32.895324     0.001887   \n",
       "min       0.012000             1.000000              6.000000     0.990070   \n",
       "25%       0.070000             7.000000             22.000000     0.995600   \n",
       "50%       0.079000            14.000000             38.000000     0.996750   \n",
       "75%       0.090000            21.000000             62.000000     0.997835   \n",
       "max       0.611000            72.000000            289.000000     1.003690   \n",
       "\n",
       "                pH    sulphates      alcohol      quality  \n",
       "count  1599.000000  1599.000000  1599.000000  1599.000000  \n",
       "mean      3.311113     0.658149    10.422983     5.636023  \n",
       "std       0.154386     0.169507     1.065668     0.807569  \n",
       "min       2.740000     0.330000     8.400000     3.000000  \n",
       "25%       3.210000     0.550000     9.500000     5.000000  \n",
       "50%       3.310000     0.620000    10.200000     6.000000  \n",
       "75%       3.400000     0.730000    11.100000     6.000000  \n",
       "max       4.010000     2.000000    14.900000     8.000000  "
      ]
     },
     "execution_count": 5,
     "metadata": {},
     "output_type": "execute_result"
    }
   ],
   "source": [
    "wine.describe()"
   ]
  },
  {
   "cell_type": "markdown",
   "id": "de77aa35",
   "metadata": {},
   "source": [
    "### 3. correlation matrix between quality and the other attributes."
   ]
  },
  {
   "cell_type": "code",
   "execution_count": 6,
   "id": "0b37bf98",
   "metadata": {},
   "outputs": [
    {
     "data": {
      "text/plain": [
       "fixed acidity           0.124052\n",
       "volatile acidity       -0.390558\n",
       "citric acid             0.226373\n",
       "residual sugar          0.013732\n",
       "chlorides              -0.128907\n",
       "free sulfur dioxide    -0.050656\n",
       "total sulfur dioxide   -0.185100\n",
       "density                -0.174919\n",
       "pH                     -0.057731\n",
       "sulphates               0.251397\n",
       "alcohol                 0.476166\n",
       "quality                 1.000000\n",
       "Name: quality, dtype: float64"
      ]
     },
     "execution_count": 6,
     "metadata": {},
     "output_type": "execute_result"
    }
   ],
   "source": [
    "corr_matrix = wine.corr()\n",
    "corr_matrix[\"quality\"]"
   ]
  },
  {
   "cell_type": "code",
   "execution_count": 7,
   "id": "72c144d9",
   "metadata": {},
   "outputs": [
    {
     "data": {
      "text/plain": [
       "5    681\n",
       "6    638\n",
       "7    199\n",
       "4     53\n",
       "8     18\n",
       "3     10\n",
       "Name: quality, dtype: int64"
      ]
     },
     "execution_count": 7,
     "metadata": {},
     "output_type": "execute_result"
    }
   ],
   "source": [
    "count= wine[\"quality\"].value_counts()\n",
    "count"
   ]
  },
  {
   "cell_type": "markdown",
   "id": "d59ffa84",
   "metadata": {},
   "source": [
    "### 4. Split the data into 80% training set and 20% testing set, and print the shape of X_train, y_train, X_test, and   y_test."
   ]
  },
  {
   "cell_type": "code",
   "execution_count": 8,
   "id": "49b496df",
   "metadata": {},
   "outputs": [
    {
     "name": "stdout",
     "output_type": "stream",
     "text": [
      "X_train: (1279, 11)\n",
      "y_train: (1279,)\n",
      "X_test: (320, 11)\n",
      "y_test: (320,)\n"
     ]
    }
   ],
   "source": [
    "from sklearn.model_selection import train_test_split\n",
    "\n",
    "# splitting the data for train and test into 80% and 20% respectively.\n",
    "feature = wine.drop(\"quality\",axis=1) # training data\n",
    "target = wine[\"quality\"]  # testing data\n",
    "\n",
    "X_train  ,X_test, y_train, y_test = train_test_split(feature, target,test_size=0.2)\n",
    "\n",
    "\n",
    "# shapes of the train and test data\n",
    "print(\"X_train:\",X_train.shape)\n",
    "print(\"y_train:\",y_train.shape)\n",
    "print(\"X_test:\",X_test.shape)\n",
    "print(\"y_test:\",y_test.shape)\n",
    "\n"
   ]
  },
  {
   "cell_type": "markdown",
   "id": "d9ed1a9c",
   "metadata": {},
   "source": [
    "### 5.Train a svm model (we will call it model1) to predict the quality of wine on the training set using: kernel = rbf, gamma = 1, and C =1."
   ]
  },
  {
   "cell_type": "code",
   "execution_count": 17,
   "id": "ae7521f7",
   "metadata": {},
   "outputs": [
    {
     "name": "stdout",
     "output_type": "stream",
     "text": [
      "[5 5 4 ... 7 5 6]\n"
     ]
    }
   ],
   "source": [
    "from sklearn.svm import SVC\n",
    "\n",
    "# we create svc model with 'rbf' kernel , gamma is 1 and C is 1\n",
    "model1 = SVC(kernel='rbf',gamma=1, C=1)\n",
    "\n",
    "# train model with training data\n",
    "model1.fit(X_train,y_train)\n",
    "\n",
    "# make prediction on training data\n",
    "prediction = model1.predict(X_train)\n",
    "print(prediction)"
   ]
  },
  {
   "cell_type": "markdown",
   "id": "554c2bf3",
   "metadata": {},
   "source": [
    "### 6.Test your model on the test set, and report the classification_report on the y_test and y_predict."
   ]
  },
  {
   "cell_type": "code",
   "execution_count": 18,
   "id": "53e132d2",
   "metadata": {},
   "outputs": [
    {
     "name": "stdout",
     "output_type": "stream",
     "text": [
      "              precision    recall  f1-score   support\n",
      "\n",
      "           3       1.00      0.00      0.00         2\n",
      "           4       1.00      0.00      0.00         9\n",
      "           5       0.51      0.86      0.64       133\n",
      "           6       0.59      0.38      0.46       128\n",
      "           7       0.91      0.25      0.39        40\n",
      "           8       1.00      0.12      0.22         8\n",
      "\n",
      "    accuracy                           0.55       320\n",
      "   macro avg       0.84      0.27      0.29       320\n",
      "weighted avg       0.62      0.55      0.51       320\n",
      "\n"
     ]
    }
   ],
   "source": [
    "from sklearn.metrics import classification_report\n",
    "\n",
    "# make prediction on testing data\n",
    "y_prediction = model1.predict(X_test)\n",
    "\n",
    "# classificationreport on testing data\n",
    "print(classification_report(y_test,y_prediction,zero_division=1))"
   ]
  },
  {
   "cell_type": "markdown",
   "id": "17c2cc60",
   "metadata": {},
   "source": [
    "### 7. Plot the confusion matrix of your test results using ConfusionMatrixDisplay.from_predictions(y_test, y_predict)"
   ]
  },
  {
   "cell_type": "code",
   "execution_count": 19,
   "id": "623b55c0",
   "metadata": {},
   "outputs": [
    {
     "data": {
      "text/plain": [
       "<sklearn.metrics._plot.confusion_matrix.ConfusionMatrixDisplay at 0x16b6d0f49d0>"
      ]
     },
     "execution_count": 19,
     "metadata": {},
     "output_type": "execute_result"
    },
    {
     "data": {
      "image/png": "[encoded data removed]",
      "text/plain": [
       "<Figure size 640x480 with 2 Axes>"
      ]
     },
     "metadata": {},
     "output_type": "display_data"
    }
   ],
   "source": [
    "from sklearn.metrics import confusion_matrix , ConfusionMatrixDisplay\n",
    "\n",
    "# generating a confusion matrix for the test data\n",
    "confusionMatrix = confusion_matrix(y_test,y_prediction)\n",
    "\n",
    "# plotting the confusion matrix\n",
    "display = ConfusionMatrixDisplay(confusion_matrix=confusionMatrix, display_labels=model1.classes_)\n",
    "display.plot()\n"
   ]
  },
  {
   "cell_type": "markdown",
   "id": "4c15d2fa",
   "metadata": {},
   "source": [
    "### 8. Train a svm model with the same kernel and gamma values but with a smaller value of C (e.g., C=0.01), and only report the classification_report. We will refer to this model as model2."
   ]
  },
  {
   "cell_type": "code",
   "execution_count": 20,
   "id": "4fb6fa4c",
   "metadata": {},
   "outputs": [
    {
     "name": "stdout",
     "output_type": "stream",
     "text": [
      "              precision    recall  f1-score   support\n",
      "\n",
      "           3       1.00      0.00      0.00         2\n",
      "           4       1.00      0.00      0.00         9\n",
      "           5       0.42      1.00      0.59       133\n",
      "           6       1.00      0.00      0.00       128\n",
      "           7       1.00      0.00      0.00        40\n",
      "           8       1.00      0.00      0.00         8\n",
      "\n",
      "    accuracy                           0.42       320\n",
      "   macro avg       0.90      0.17      0.10       320\n",
      "weighted avg       0.76      0.42      0.24       320\n",
      "\n"
     ]
    }
   ],
   "source": [
    "# training a model using same kerenel and gamma value but C is 0.01\n",
    "model2 = SVC(kernel='rbf',gamma=1, C=0.01)\n",
    "\n",
    "# train the model on the training data\n",
    "model2.fit(X_train,y_train)\n",
    "\n",
    "# prediction on test data \n",
    "y_prediction2 = model2.predict(X_test)\n",
    "\n",
    "# print the classification report \n",
    "print(classification_report(y_test,y_prediction2,zero_division=1))"
   ]
  },
  {
   "cell_type": "markdown",
   "id": "d5a1ab7b",
   "metadata": {},
   "source": [
    "### 9.Train a svm model with the same kernel and gamma values but with a larger value of C (e.g., C=10), and only report the classification_report. We will refer to this model as model3."
   ]
  },
  {
   "cell_type": "code",
   "execution_count": 21,
   "id": "89c61a97",
   "metadata": {},
   "outputs": [
    {
     "name": "stdout",
     "output_type": "stream",
     "text": [
      "              precision    recall  f1-score   support\n",
      "\n",
      "           3       1.00      0.00      0.00         2\n",
      "           4       0.00      0.00      0.00         9\n",
      "           5       0.53      0.87      0.66       133\n",
      "           6       0.59      0.41      0.48       128\n",
      "           7       0.91      0.25      0.39        40\n",
      "           8       1.00      0.12      0.22         8\n",
      "\n",
      "    accuracy                           0.56       320\n",
      "   macro avg       0.67      0.28      0.29       320\n",
      "weighted avg       0.60      0.56      0.52       320\n",
      "\n"
     ]
    }
   ],
   "source": [
    "# Initializing a new model with C is 10\n",
    "model3 = SVC(kernel='rbf',gamma=1,C=10)\n",
    "\n",
    "# training model with train set\n",
    "model3.fit(X_train,y_train)\n",
    "\n",
    "# predicting model on test data\n",
    "y_prediction3= model3.predict(X_test)\n",
    "\n",
    "# printing classification report \n",
    "print(classification_report(y_test,y_prediction3,zero_division=1))"
   ]
  },
  {
   "cell_type": "markdown",
   "id": "8810b543",
   "metadata": {},
   "source": [
    "### 10. Evaluate model1 using cross validation with cv=5. Report on the cross_val_score, and the mean of the accuracy scores."
   ]
  },
  {
   "cell_type": "code",
   "execution_count": 16,
   "id": "a6e72f96",
   "metadata": {
    "scrolled": true
   },
   "outputs": [
    {
     "name": "stdout",
     "output_type": "stream",
     "text": [
      "Cross val score is : [0.4875     0.45       0.440625   0.43125    0.44827586]\n",
      "Mean of accuracy score: 0.4515301724137931\n"
     ]
    }
   ],
   "source": [
    "from sklearn.model_selection import cross_val_score\n",
    "\n",
    "# calculating cross validation score \n",
    "score = cross_val_score(model1,feature,target,cv=5)\n",
    "\n",
    "print(\"Cross val score is :\" ,score)\n",
    "print(\"Mean of accuracy score:\" , score.mean())"
   ]
  },
  {
   "cell_type": "markdown",
   "id": "b5a1670e",
   "metadata": {},
   "source": [
    "### 11. Why do you think your model is not performing well? Is it the algorithm? The data? Or something else?"
   ]
  },
  {
   "cell_type": "markdown",
   "id": "3616b3ee",
   "metadata": {},
   "source": [
    "The unbalanced distribution of the target variable, in this instance wine quality, might explain why the SVM models did not perform well. The quality attribute value counts suggest that the dataset includes relatively few cases of wine with extremely high or extremely poor quality, with the bulk of occurrences centred in the medium range. As a result, the model may be skewed towards the dominant class and fail to properly anticipate the minority classes."
   ]
  }
 ],
 "metadata": {
  "kernelspec": {
   "display_name": "Python 3 (ipykernel)",
   "language": "python",
   "name": "python3"
  },
  "language_info": {
   "codemirror_mode": {
    "name": "ipython",
    "version": 3
   },
   "file_extension": ".py",
   "mimetype": "text/x-python",
   "name": "python",
   "nbconvert_exporter": "python",
   "pygments_lexer": "ipython3",
   "version": "3.9.13"
  }
 },
 "nbformat": 4,
 "nbformat_minor": 5
}
